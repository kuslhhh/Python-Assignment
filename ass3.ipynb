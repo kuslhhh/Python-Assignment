{
 "cells": [
  {
   "cell_type": "markdown",
   "id": "ffd1caf0",
   "metadata": {},
   "source": [
    "### Q1:Write a Python program that takes a string as input and prints the string in reverse order."
   ]
  },
  {
   "cell_type": "code",
   "execution_count": 1,
   "id": "dc4d066b",
   "metadata": {},
   "outputs": [
    {
     "name": "stdout",
     "output_type": "stream",
     "text": [
      "reversed string:  ahsuk\n"
     ]
    }
   ],
   "source": [
    "text = input(\"enter string\")\n",
    "print(\"reversed string: \", text[::-1])"
   ]
  },
  {
   "cell_type": "markdown",
   "id": "77dde59b",
   "metadata": {},
   "source": [
    "### Q2:Write a Python program that checks whether a given string is a palindrome (reads the same forward and backward)."
   ]
  },
  {
   "cell_type": "code",
   "execution_count": 2,
   "id": "23ca7846",
   "metadata": {},
   "outputs": [
    {
     "name": "stdout",
     "output_type": "stream",
     "text": [
      "palindrome\n"
     ]
    }
   ],
   "source": [
    "text = input(\"enter string: \")\n",
    "\n",
    "if text == text[::-1]:\n",
    "    print(\"palindrome\")\n",
    "else:\n",
    "    print(\"palindrome\")"
   ]
  },
  {
   "cell_type": "markdown",
   "id": "9d601af6",
   "metadata": {},
   "source": [
    "#### Q3:Write a Python program that checks if a given substring exists in a string. If it does, print the index where it starts, otherwise print a message saying it's not found."
   ]
  },
  {
   "cell_type": "code",
   "execution_count": 3,
   "id": "26ce1da2",
   "metadata": {},
   "outputs": [
    {
     "name": "stdout",
     "output_type": "stream",
     "text": [
      "Substring found at index: 0\n"
     ]
    }
   ],
   "source": [
    "text = input(\"enter string: \")\n",
    "sub = input(\"enter a substring: \")\n",
    "\n",
    "if sub in text:\n",
    "    print(\"Substring found at index:\", text.find(sub))\n",
    "else:\n",
    "    print(\"substring not found\")"
   ]
  },
  {
   "cell_type": "markdown",
   "id": "64a7a3ba",
   "metadata": {},
   "source": [
    "### Q4:Write a Python program that counts the number of times a specific character appears in a string."
   ]
  },
  {
   "cell_type": "code",
   "execution_count": 5,
   "id": "76c307d1",
   "metadata": {},
   "outputs": [
    {
     "name": "stdout",
     "output_type": "stream",
     "text": [
      "'' appears 1 times\n"
     ]
    }
   ],
   "source": [
    "text = input(\"enter string: \")\n",
    "char = input(\"enter a char to count\")\n",
    "\n",
    "count = text.count(char)\n",
    "print(\"'\" + \"' appears\", count, \"times\")"
   ]
  },
  {
   "cell_type": "markdown",
   "id": "cb82a354",
   "metadata": {},
   "source": [
    "### Q5:Write a Python program that replaces all occurrences of a substring with another substring in a given string."
   ]
  },
  {
   "cell_type": "code",
   "execution_count": 6,
   "id": "538b85f5",
   "metadata": {},
   "outputs": [
    {
     "name": "stdout",
     "output_type": "stream",
     "text": [
      "updated string:  kushal vilas jadhav\n"
     ]
    }
   ],
   "source": [
    "text = input(\"enter string\")\n",
    "old = input(\"enter substring to replace\")\n",
    "new = input(\"enter new substring\")\n",
    "\n",
    "result = text.replace(old, new)\n",
    "print(\"updated string: \", result)"
   ]
  }
 ],
 "metadata": {
  "kernelspec": {
   "display_name": "base",
   "language": "python",
   "name": "python3"
  },
  "language_info": {
   "codemirror_mode": {
    "name": "ipython",
    "version": 3
   },
   "file_extension": ".py",
   "mimetype": "text/x-python",
   "name": "python",
   "nbconvert_exporter": "python",
   "pygments_lexer": "ipython3",
   "version": "3.12.7"
  }
 },
 "nbformat": 4,
 "nbformat_minor": 5
}
