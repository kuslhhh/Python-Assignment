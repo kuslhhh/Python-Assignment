{
 "cells": [
  {
   "cell_type": "markdown",
   "id": "65e05171",
   "metadata": {},
   "source": [
    "### Create a set of 5 different fruits."
   ]
  },
  {
   "cell_type": "code",
   "execution_count": 1,
   "id": "963991b0",
   "metadata": {},
   "outputs": [],
   "source": [
    "fruits = {\"apple\", \"banana\", \"mango\", \"orange\", \"grape\"}"
   ]
  },
  {
   "cell_type": "markdown",
   "id": "4925af15",
   "metadata": {},
   "source": [
    "### Add a new fruit to the set."
   ]
  },
  {
   "cell_type": "code",
   "execution_count": 2,
   "id": "8521eae8",
   "metadata": {},
   "outputs": [
    {
     "name": "stdout",
     "output_type": "stream",
     "text": [
      "after adding pineapple {'mango', 'banana', 'Pineapple', 'grape', 'orange', 'apple'}\n"
     ]
    }
   ],
   "source": [
    "fruits.add(\"Pineapple\")\n",
    "print(\"after adding pineapple\", fruits)"
   ]
  },
  {
   "cell_type": "markdown",
   "id": "794e9ffb",
   "metadata": {},
   "source": [
    "### Remove a fruit from the set"
   ]
  },
  {
   "cell_type": "code",
   "execution_count": 3,
   "id": "8617f260",
   "metadata": {},
   "outputs": [
    {
     "name": "stdout",
     "output_type": "stream",
     "text": [
      "after removing banana:  {'mango', 'Pineapple', 'grape', 'orange', 'apple'}\n"
     ]
    }
   ],
   "source": [
    "fruits.remove(\"banana\")\n",
    "print(\"after removing banana: \",fruits)"
   ]
  },
  {
   "cell_type": "markdown",
   "id": "f822e06e",
   "metadata": {},
   "source": [
    "### Check if a fruit is in the set."
   ]
  },
  {
   "cell_type": "code",
   "execution_count": 4,
   "id": "9d139887",
   "metadata": {},
   "outputs": [
    {
     "name": "stdout",
     "output_type": "stream",
     "text": [
      "apple is in the set\n"
     ]
    }
   ],
   "source": [
    "find = input(\"Enter fruit name:\")\n",
    "if find in fruits:\n",
    "    print(find, \"is in the set\")\n",
    "else:\n",
    "    print(find, \"is in the set\")"
   ]
  },
  {
   "cell_type": "markdown",
   "id": "fc174433",
   "metadata": {},
   "source": [
    "### Perform a union of your set with another set of 3 fruits."
   ]
  },
  {
   "cell_type": "code",
   "execution_count": 5,
   "id": "5051db52",
   "metadata": {},
   "outputs": [
    {
     "name": "stdout",
     "output_type": "stream",
     "text": [
      "Union:  {'mango', 'Pineapple', 'kiwi', 'orange', 'grape', 'apple'}\n"
     ]
    }
   ],
   "source": [
    "moreFruits = {\"kiwi\", \"mango\"}\n",
    "unionFruits = fruits.union(moreFruits)\n",
    "print(\"Union: \", unionFruits)"
   ]
  },
  {
   "cell_type": "markdown",
   "id": "3c59097e",
   "metadata": {},
   "source": [
    "### Find the intersection of your set and another set of 3 fruits."
   ]
  },
  {
   "cell_type": "code",
   "execution_count": 6,
   "id": "ca790230",
   "metadata": {},
   "outputs": [
    {
     "name": "stdout",
     "output_type": "stream",
     "text": [
      "Insersection:  {'mango'}\n"
     ]
    }
   ],
   "source": [
    "insersection = fruits.intersection(moreFruits)\n",
    "print(\"Insersection: \", insersection)"
   ]
  },
  {
   "cell_type": "markdown",
   "id": "fe642f4d",
   "metadata": {},
   "source": [
    "### Find the difference between your set and another set (what fruits are in your set but not the other set)."
   ]
  },
  {
   "cell_type": "code",
   "execution_count": 7,
   "id": "b695aed2",
   "metadata": {},
   "outputs": [
    {
     "name": "stdout",
     "output_type": "stream",
     "text": [
      "fruits only in your set:  {'apple', 'orange', 'grape', 'Pineapple'}\n"
     ]
    }
   ],
   "source": [
    "diff = fruits.difference(moreFruits)\n",
    "print(\"fruits only in your set: \", diff)"
   ]
  },
  {
   "cell_type": "markdown",
   "id": "3b271323",
   "metadata": {},
   "source": [
    "### Convert the set into a list and print the list"
   ]
  },
  {
   "cell_type": "code",
   "execution_count": 8,
   "id": "dd03ca7a",
   "metadata": {},
   "outputs": [
    {
     "name": "stdout",
     "output_type": "stream",
     "text": [
      "List:  ['mango', 'Pineapple', 'grape', 'orange', 'apple']\n"
     ]
    }
   ],
   "source": [
    "fruitList = list(fruits)\n",
    "print(\"List: \", fruitList)"
   ]
  },
  {
   "cell_type": "code",
   "execution_count": null,
   "id": "dea78d46",
   "metadata": {},
   "outputs": [],
   "source": []
  }
 ],
 "metadata": {
  "kernelspec": {
   "display_name": "base",
   "language": "python",
   "name": "python3"
  },
  "language_info": {
   "codemirror_mode": {
    "name": "ipython",
    "version": 3
   },
   "file_extension": ".py",
   "mimetype": "text/x-python",
   "name": "python",
   "nbconvert_exporter": "python",
   "pygments_lexer": "ipython3",
   "version": "3.12.7"
  }
 },
 "nbformat": 4,
 "nbformat_minor": 5
}
