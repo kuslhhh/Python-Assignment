{
 "cells": [
  {
   "cell_type": "markdown",
   "id": "2ea2e82c",
   "metadata": {},
   "source": [
    "### Create a list of your favorite five movies (use movie names as strings).\n"
   ]
  },
  {
   "cell_type": "code",
   "execution_count": 1,
   "id": "25a454d5",
   "metadata": {},
   "outputs": [],
   "source": [
    "movies = [\"Intersteller\", \"Avengers\", \"Thor\", \"Oppenheimer\", \"500 days of summer\"]"
   ]
  },
  {
   "cell_type": "markdown",
   "id": "424c78aa",
   "metadata": {},
   "source": [
    "### Add a new movie to the list.\n"
   ]
  },
  {
   "cell_type": "code",
   "execution_count": null,
   "id": "ce78b4b6",
   "metadata": {},
   "outputs": [
    {
     "name": "stdout",
     "output_type": "stream",
     "text": [
      "['Intersteller', 'Avengers', 'Thor', 'Oppenheimer', '500 days of summer', 'X-men', 'X-men']\n"
     ]
    }
   ],
   "source": [
    "movies.append(\"X-men\")"
   ]
  },
  {
   "cell_type": "markdown",
   "id": "d5964d77",
   "metadata": {},
   "source": [
    "### Remove the movie with the least rating from the list (choose a movie name and remove it)."
   ]
  },
  {
   "cell_type": "code",
   "execution_count": 6,
   "id": "ef35a78c",
   "metadata": {},
   "outputs": [],
   "source": [
    "movies.remove(\"Avengers\")"
   ]
  },
  {
   "cell_type": "markdown",
   "id": "7f2048e7",
   "metadata": {},
   "source": [
    "### Sort the list alphabetically."
   ]
  },
  {
   "cell_type": "code",
   "execution_count": 7,
   "id": "ea50e1fa",
   "metadata": {},
   "outputs": [],
   "source": [
    "movies.sort()"
   ]
  },
  {
   "cell_type": "markdown",
   "id": "8c600df2",
   "metadata": {},
   "source": [
    "### Find the longest movie title in the list."
   ]
  },
  {
   "cell_type": "code",
   "execution_count": 9,
   "id": "d73cbfac",
   "metadata": {},
   "outputs": [
    {
     "name": "stdout",
     "output_type": "stream",
     "text": [
      "Longest movie title:  500 days of summer\n"
     ]
    }
   ],
   "source": [
    "longest = max(movies, key = len)\n",
    "print(\"Longest movie title: \", longest)"
   ]
  },
  {
   "cell_type": "markdown",
   "id": "d87c77af",
   "metadata": {},
   "source": [
    "### Reverse the list of movies.\n"
   ]
  },
  {
   "cell_type": "code",
   "execution_count": 10,
   "id": "6212b6f6",
   "metadata": {},
   "outputs": [
    {
     "name": "stdout",
     "output_type": "stream",
     "text": [
      "Reverse list:  ['X-men', 'X-men', 'Thor', 'Oppenheimer', 'Intersteller', '500 days of summer']\n"
     ]
    }
   ],
   "source": [
    "movies.reverse()\n",
    "print(\"Reverse list: \", movies)"
   ]
  },
  {
   "cell_type": "markdown",
   "id": "75efd9ff",
   "metadata": {},
   "source": [
    "### Combine your list with another list of 3 movies, and print the combined list.\n"
   ]
  },
  {
   "cell_type": "code",
   "execution_count": 13,
   "id": "cf7d381b",
   "metadata": {},
   "outputs": [
    {
     "name": "stdout",
     "output_type": "stream",
     "text": [
      "Combined list:  ['X-men', 'Thor', 'Oppenheimer', 'Intersteller', '500 days of summer', 'Avengers', 'Tenet', 'The dark knight']\n"
     ]
    }
   ],
   "source": [
    "anotherMovies = [\"Avengers\", \"Tenet\", \"The dark knight\"]\n",
    "combined = movies + anotherMovies\n",
    "print(\"Combined list: \", combined)\n",
    "\n"
   ]
  },
  {
   "cell_type": "markdown",
   "id": "bf976d8d",
   "metadata": {},
   "source": [
    "### Slice the list to show only the first three movies."
   ]
  },
  {
   "cell_type": "code",
   "execution_count": 14,
   "id": "bbd63dc5",
   "metadata": {},
   "outputs": [
    {
     "name": "stdout",
     "output_type": "stream",
     "text": [
      "first 3 movies:  ['X-men', 'Thor', 'Oppenheimer']\n"
     ]
    }
   ],
   "source": [
    "print(\"first 3 movies: \",combined[:3])"
   ]
  },
  {
   "cell_type": "markdown",
   "id": "d925ddb3",
   "metadata": {},
   "source": [
    "### Check if a movie (you choose one) is in the list."
   ]
  },
  {
   "cell_type": "code",
   "execution_count": 16,
   "id": "3e570e5d",
   "metadata": {},
   "outputs": [
    {
     "name": "stdout",
     "output_type": "stream",
     "text": [
      "Thor is in the list\n"
     ]
    }
   ],
   "source": [
    "ismovie = input(\"Enter movie: \")\n",
    "if ismovie in combined:\n",
    "    print( ismovie, \"is in the list\")\n",
    "else:\n",
    "    print( ismovie, \"is not in the list\")"
   ]
  },
  {
   "cell_type": "code",
   "execution_count": null,
   "id": "54a9c280",
   "metadata": {},
   "outputs": [],
   "source": []
  }
 ],
 "metadata": {
  "kernelspec": {
   "display_name": "base",
   "language": "python",
   "name": "python3"
  },
  "language_info": {
   "codemirror_mode": {
    "name": "ipython",
    "version": 3
   },
   "file_extension": ".py",
   "mimetype": "text/x-python",
   "name": "python",
   "nbconvert_exporter": "python",
   "pygments_lexer": "ipython3",
   "version": "3.12.7"
  }
 },
 "nbformat": 4,
 "nbformat_minor": 5
}
