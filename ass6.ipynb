{
 "cells": [
  {
   "cell_type": "markdown",
   "id": "6988bd78",
   "metadata": {},
   "source": [
    "### Create a tuple of 5 numbers."
   ]
  },
  {
   "cell_type": "code",
   "execution_count": 2,
   "id": "eb7f9532",
   "metadata": {},
   "outputs": [],
   "source": [
    "num = (1,2,4,5,6,8)"
   ]
  },
  {
   "cell_type": "markdown",
   "id": "5ca1630d",
   "metadata": {},
   "source": [
    "### Access the second item in the tuple."
   ]
  },
  {
   "cell_type": "code",
   "execution_count": 3,
   "id": "3372eee0",
   "metadata": {},
   "outputs": [
    {
     "name": "stdout",
     "output_type": "stream",
     "text": [
      "Second item:  2\n"
     ]
    }
   ],
   "source": [
    "print(\"Second item: \", num[1])"
   ]
  },
  {
   "cell_type": "markdown",
   "id": "d6d6265c",
   "metadata": {},
   "source": [
    "### Find the maximum and minimum value in the tuple."
   ]
  },
  {
   "cell_type": "code",
   "execution_count": 4,
   "id": "0c4444a2",
   "metadata": {},
   "outputs": [
    {
     "name": "stdout",
     "output_type": "stream",
     "text": [
      "Max value:  8\n",
      "Min value:  1\n"
     ]
    }
   ],
   "source": [
    "print(\"Max value: \", max(num))\n",
    "print(\"Min value: \", min(num))"
   ]
  },
  {
   "cell_type": "markdown",
   "id": "e03c3b9c",
   "metadata": {},
   "source": [
    "### Concatenate the tuple with another tuple containing 3 elements."
   ]
  },
  {
   "cell_type": "code",
   "execution_count": 5,
   "id": "7b7146df",
   "metadata": {},
   "outputs": [
    {
     "name": "stdout",
     "output_type": "stream",
     "text": [
      "Combined tuple:  (1, 2, 4, 5, 6, 8, 18, 45, 7)\n"
     ]
    }
   ],
   "source": [
    "moreNum = (18, 45, 7)\n",
    "combined = num + moreNum\n",
    "\n",
    "print(\"Combined tuple: \",combined)"
   ]
  },
  {
   "cell_type": "markdown",
   "id": "d276aef3",
   "metadata": {},
   "source": [
    "### Check if a number is in the tuple."
   ]
  },
  {
   "cell_type": "code",
   "execution_count": 6,
   "id": "619875d6",
   "metadata": {},
   "outputs": [
    {
     "name": "stdout",
     "output_type": "stream",
     "text": [
      "18 is in the tuple\n"
     ]
    }
   ],
   "source": [
    "find = int(input(\"Enter number\"))\n",
    "\n",
    "if find in combined:\n",
    "    print(find, \"is in the tuple\")\n",
    "else:\n",
    "    print(find, \"is in the tuple\")"
   ]
  },
  {
   "cell_type": "markdown",
   "id": "e09090df",
   "metadata": {},
   "source": [
    "### Count the occurrences of a specific number in the tuple."
   ]
  },
  {
   "cell_type": "code",
   "execution_count": 7,
   "id": "ff8ebc2b",
   "metadata": {},
   "outputs": [
    {
     "name": "stdout",
     "output_type": "stream",
     "text": [
      "18 appears 1 times\n"
     ]
    }
   ],
   "source": [
    "print(\"18 appears\", combined.count(18), \"times\")"
   ]
  },
  {
   "cell_type": "markdown",
   "id": "88f0ecc2",
   "metadata": {},
   "source": [
    "### Convert the tuple into a list and print the list."
   ]
  },
  {
   "cell_type": "code",
   "execution_count": 8,
   "id": "c83f0026",
   "metadata": {},
   "outputs": [
    {
     "name": "stdout",
     "output_type": "stream",
     "text": [
      "List:  [1, 2, 4, 5, 6, 8, 18, 45, 7]\n"
     ]
    }
   ],
   "source": [
    "numList = list(combined)\n",
    "print(\"List: \", numList)"
   ]
  },
  {
   "cell_type": "markdown",
   "id": "f7cb8d9b",
   "metadata": {},
   "source": []
  }
 ],
 "metadata": {
  "kernelspec": {
   "display_name": "base",
   "language": "python",
   "name": "python3"
  },
  "language_info": {
   "codemirror_mode": {
    "name": "ipython",
    "version": 3
   },
   "file_extension": ".py",
   "mimetype": "text/x-python",
   "name": "python",
   "nbconvert_exporter": "python",
   "pygments_lexer": "ipython3",
   "version": "3.12.7"
  }
 },
 "nbformat": 4,
 "nbformat_minor": 5
}
