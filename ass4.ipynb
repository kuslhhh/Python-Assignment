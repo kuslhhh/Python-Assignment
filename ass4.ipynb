{
 "cells": [
  {
   "cell_type": "markdown",
   "id": "1d645591",
   "metadata": {},
   "source": [
    "### Q1:Write a Python function that takes two numbers as arguments and returns their sum."
   ]
  },
  {
   "cell_type": "code",
   "execution_count": null,
   "id": "061accfb",
   "metadata": {},
   "outputs": [],
   "source": [
    "def add(a, b):\n",
    "    return a+b"
   ]
  },
  {
   "cell_type": "markdown",
   "id": "d44f90d4",
   "metadata": {},
   "source": [
    "### Q2:Write a Python function that takes a number n as input and returns the factorial of that number."
   ]
  },
  {
   "cell_type": "code",
   "execution_count": 1,
   "id": "dea55098",
   "metadata": {},
   "outputs": [],
   "source": [
    "def factorial(n):\n",
    "    result = 1\n",
    "    for i in range(1, n + 1):\n",
    "        result *= i\n",
    "    return result"
   ]
  },
  {
   "cell_type": "markdown",
   "id": "c52ff168",
   "metadata": {},
   "source": [
    "### Q3:Write a Python function that takes a number n and checks whether the number is prime or not. The function should return True if it is prime, otherwise False."
   ]
  },
  {
   "cell_type": "code",
   "execution_count": 2,
   "id": "821eca02",
   "metadata": {},
   "outputs": [],
   "source": [
    "def isPrime(n):\n",
    "    if n <= 1:\n",
    "        return False\n",
    "    for i in range(2, n):\n",
    "        if n % i == 0:\n",
    "            return False\n",
    "    return True"
   ]
  },
  {
   "cell_type": "markdown",
   "id": "bd36c80a",
   "metadata": {},
   "source": [
    "### Q4:Write a Python function that takes a string as input and returns the number of vowels (a, e, i, o, u) in the string."
   ]
  },
  {
   "cell_type": "code",
   "execution_count": 3,
   "id": "de7a4c08",
   "metadata": {},
   "outputs": [],
   "source": [
    "def countVowels(text):\n",
    "    count = 0\n",
    "    for ch in text:\n",
    "        if ch.lower() in \"aeiou\":\n",
    "            count +=1\n",
    "    return count"
   ]
  },
  {
   "cell_type": "markdown",
   "id": "065a44db",
   "metadata": {},
   "source": [
    "### Q5:Write a Python function that takes a list of numbers as input and returns both the maximum and minimum values in the list."
   ]
  },
  {
   "cell_type": "code",
   "execution_count": null,
   "id": "6290ef02",
   "metadata": {},
   "outputs": [],
   "source": [
    "def maxMin(num):\n",
    "    return max(num), min(num)"
   ]
  },
  {
   "cell_type": "markdown",
   "id": "ee9e5361",
   "metadata": {},
   "source": [
    "### Q6:Write a Python function that takes a number n and returns the sum of its digits."
   ]
  },
  {
   "cell_type": "code",
   "execution_count": 4,
   "id": "23032d82",
   "metadata": {},
   "outputs": [],
   "source": [
    "def sumOfDigits(n):\n",
    "    total = 0\n",
    "    for digit in str(n):\n",
    "        total += int(digit)\n",
    "    return total"
   ]
  },
  {
   "cell_type": "markdown",
   "id": "6a7f8940",
   "metadata": {},
   "source": [
    "### Q7:Write a Python function that checks if a string is a palindrome (i.e., the string reads the same forwards and backwards). Return True if it is a palindrome, otherwise False"
   ]
  },
  {
   "cell_type": "code",
   "execution_count": null,
   "id": "6513cd45",
   "metadata": {},
   "outputs": [],
   "source": [
    "def Palindrome(text):\n",
    "    return text == text[::-1]"
   ]
  }
 ],
 "metadata": {
  "kernelspec": {
   "display_name": "base",
   "language": "python",
   "name": "python3"
  },
  "language_info": {
   "codemirror_mode": {
    "name": "ipython",
    "version": 3
   },
   "file_extension": ".py",
   "mimetype": "text/x-python",
   "name": "python",
   "nbconvert_exporter": "python",
   "pygments_lexer": "ipython3",
   "version": "3.12.7"
  }
 },
 "nbformat": 4,
 "nbformat_minor": 5
}
