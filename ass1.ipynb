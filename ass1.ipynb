{
 "cells": [
  {
   "cell_type": "markdown",
   "id": "d4a7357b",
   "metadata": {},
   "source": [
    "### Q1:WAP to check if a number is positive, negative, or zero\n"
   ]
  },
  {
   "cell_type": "code",
   "execution_count": 1,
   "id": "6d0773ab",
   "metadata": {},
   "outputs": [
    {
     "name": "stdout",
     "output_type": "stream",
     "text": [
      "Positive\n"
     ]
    }
   ],
   "source": [
    "num = float(input(\"Enter a number: \"))\n",
    "\n",
    "if num > 0:\n",
    "    print(\"Positive\")\n",
    "elif num < 0:\n",
    "    print(\"Negetive\")\n",
    "else:\n",
    "    print(\"zero\")"
   ]
  },
  {
   "cell_type": "markdown",
   "id": "016a628a",
   "metadata": {},
   "source": [
    "### Q2:WAP to check if a number is even or odd"
   ]
  },
  {
   "cell_type": "code",
   "execution_count": 2,
   "id": "35c0019e",
   "metadata": {},
   "outputs": [
    {
     "name": "stdout",
     "output_type": "stream",
     "text": [
      "Even\n"
     ]
    }
   ],
   "source": [
    "num = int(input(\"ENter a number: \"))\n",
    "if num % 2 == 0:\n",
    "    print(\"Even\")\n",
    "else:\n",
    "    print(\"Odd\")"
   ]
  },
  {
   "cell_type": "markdown",
   "id": "a9a8bfe3",
   "metadata": {},
   "source": [
    "### Q3:WAP to find the area of a rectangle"
   ]
  },
  {
   "cell_type": "code",
   "execution_count": 3,
   "id": "8b2ac60e",
   "metadata": {},
   "outputs": [
    {
     "name": "stdout",
     "output_type": "stream",
     "text": [
      "Area of rectangle:  30.0\n"
     ]
    }
   ],
   "source": [
    "length = float(input(\"Enter length\"))\n",
    "width = float(input(\"Enter width\"))\n",
    "area = length * width\n",
    "print(\"Area of rectangle: \", area)"
   ]
  },
  {
   "cell_type": "markdown",
   "id": "1804f0e6",
   "metadata": {},
   "source": [
    "### Q4:WAP to check if a year is a leap year"
   ]
  },
  {
   "cell_type": "code",
   "execution_count": 13,
   "id": "29530e64",
   "metadata": {},
   "outputs": [
    {
     "name": "stdout",
     "output_type": "stream",
     "text": [
      "Leap year\n"
     ]
    }
   ],
   "source": [
    "year = int(input(\"Enter year: \"))\n",
    "if (year % 4 == 0 and year % 100 != 0):\n",
    "    print(\"Leap year\")\n",
    "else:\n",
    "    print(\"Not a leap year\")"
   ]
  },
  {
   "cell_type": "markdown",
   "id": "d0cf8c59",
   "metadata": {},
   "source": [
    "### Q5:WAP to convert Celsius to Fahrenheit\n"
   ]
  },
  {
   "cell_type": "code",
   "execution_count": 14,
   "id": "50163142",
   "metadata": {},
   "outputs": [
    {
     "name": "stdout",
     "output_type": "stream",
     "text": [
      "Tempreture in fahrenheit:  89.6\n"
     ]
    }
   ],
   "source": [
    "cel = float(input(\"Enter tempretire in celsius: \"))\n",
    "fahr = (cel * 9/5) + 32\n",
    "print(\"Tempreture in fahrenheit: \", fahr)"
   ]
  },
  {
   "cell_type": "markdown",
   "id": "5350d871",
   "metadata": {},
   "source": [
    "### Q6:WAP to check if a number is divisible by 3 or 5"
   ]
  },
  {
   "cell_type": "code",
   "execution_count": 15,
   "id": "77f74fb7",
   "metadata": {},
   "outputs": [
    {
     "name": "stdout",
     "output_type": "stream",
     "text": [
      "divisible by 3 or 5\n"
     ]
    }
   ],
   "source": [
    "num = int(input(\"Enter number: \"))\n",
    "if num % 3 == 0 or num % 5 == 0:\n",
    "    print(\"divisible by 3 or 5\")\n",
    "else:\n",
    "    print(\"Not divisible by 3 or 5\")\n"
   ]
  },
  {
   "cell_type": "markdown",
   "id": "8f67979f",
   "metadata": {},
   "source": [
    "### Q7:WAP that takes a temperature (in Celsius) as input and checks:\n",
    "\n",
    "<ol>\n",
    "<li>If the temperature is below 0, print \"Freezing\".</li>\n",
    "<li>If the temperature is between 0 and 20, print \"Cold\".</li>\n",
    "<li>If the temperature is between 21 and 30, print \"Warm\".</li>\n",
    "<li>If the temperature is above 30, print \"Hot\".</li>\n",
    "</ol>"
   ]
  },
  {
   "cell_type": "code",
   "execution_count": 16,
   "id": "a25c61ad",
   "metadata": {},
   "outputs": [
    {
     "name": "stdout",
     "output_type": "stream",
     "text": [
      "hot\n"
     ]
    }
   ],
   "source": [
    "temp = float(input(\"Enter tempreture in celsius: \"))\n",
    "if temp < 0:\n",
    "    print(\"freezing\")\n",
    "elif 0 <= temp <= 20:\n",
    "    print(\"cold\")\n",
    "elif 21 <= temp <= 30:\n",
    "    print(\"warm\")\n",
    "else:\n",
    "    print(\"hot\")"
   ]
  },
  {
   "cell_type": "markdown",
   "id": "10a9e93f",
   "metadata": {},
   "source": [
    "### Q8:WAP to perform swap of 2 nos without using 3rd variable"
   ]
  },
  {
   "cell_type": "code",
   "execution_count": 17,
   "id": "b5530dea",
   "metadata": {},
   "outputs": [
    {
     "name": "stdout",
     "output_type": "stream",
     "text": [
      "Before swapping: a = 5 , b = 2\n",
      "After swapping: a = 2 , b = 5\n"
     ]
    }
   ],
   "source": [
    "a = int(input(\"Enter first number\"))\n",
    "b = int(input(\"Enter second number\"))\n",
    "\n",
    "print(\"Before swapping: a =\", a, \", b =\", b)\n",
    "\n",
    "a = a + b\n",
    "b = a - b \n",
    "a = a - b\n",
    "\n",
    "print(\"After swapping: a =\", a, \", b =\", b)"
   ]
  }
 ],
 "metadata": {
  "kernelspec": {
   "display_name": "base",
   "language": "python",
   "name": "python3"
  },
  "language_info": {
   "codemirror_mode": {
    "name": "ipython",
    "version": 3
   },
   "file_extension": ".py",
   "mimetype": "text/x-python",
   "name": "python",
   "nbconvert_exporter": "python",
   "pygments_lexer": "ipython3",
   "version": "3.12.7"
  }
 },
 "nbformat": 4,
 "nbformat_minor": 5
}
