{
 "cells": [
  {
   "cell_type": "markdown",
   "id": "8b19dcde",
   "metadata": {},
   "source": [
    "### Q1:Write a Python program using a for loop to calculate the sum of all even numbers from 1 to n (inclusive), where n is given by the user."
   ]
  },
  {
   "cell_type": "code",
   "execution_count": 2,
   "id": "843b24fe",
   "metadata": {},
   "outputs": [
    {
     "name": "stdout",
     "output_type": "stream",
     "text": [
      "sum of all even numbers from 1 to 8 is: 20\n"
     ]
    }
   ],
   "source": [
    "num = int(input(\"Enter a number\"))\n",
    "total = 0\n",
    "for i in range(1, num + 1):\n",
    "    if i % 2 == 0:\n",
    "        total += i\n",
    "\n",
    "print(\"sum of all even numbers from 1 to\", num, \"is:\", total)"
   ]
  },
  {
   "cell_type": "markdown",
   "id": "961b86ae",
   "metadata": {},
   "source": [
    "### Q2:Write a Python program to print the multiplication table of a number n (given by the user) from 1 to 10 using a for loop"
   ]
  },
  {
   "cell_type": "code",
   "execution_count": 4,
   "id": "7d75d3c4",
   "metadata": {},
   "outputs": [
    {
     "name": "stdout",
     "output_type": "stream",
     "text": [
      "5 x 1 = 5\n",
      "5 x 2 = 10\n",
      "5 x 3 = 15\n",
      "5 x 4 = 20\n",
      "5 x 5 = 25\n",
      "5 x 6 = 30\n",
      "5 x 7 = 35\n",
      "5 x 8 = 40\n",
      "5 x 9 = 45\n",
      "5 x 10 = 50\n"
     ]
    }
   ],
   "source": [
    "num = int(input(\"Enter number:\" ))\n",
    "for i in range(1, 11):\n",
    "    print(num, \"x\", i, \"=\", num * i)"
   ]
  },
  {
   "cell_type": "markdown",
   "id": "f2919f53",
   "metadata": {},
   "source": [
    "### Q3:Write a Python program that counts the number of vowels in a given string using a for loop"
   ]
  },
  {
   "cell_type": "code",
   "execution_count": null,
   "id": "82817111",
   "metadata": {},
   "outputs": [
    {
     "name": "stdout",
     "output_type": "stream",
     "text": [
      "number of vowels:  0\n"
     ]
    }
   ],
   "source": [
    "text = input(\"enter a string: \")\n",
    "count = 0\n",
    "\n",
    "for ch in text:\n",
    "    if ch.lower() in \"aeiou\":\n",
    "        count+= 1\n",
    "\n",
    "print(\"number of vowels: \", count)"
   ]
  },
  {
   "cell_type": "markdown",
   "id": "f6a28e04",
   "metadata": {},
   "source": [
    "### Q4:Write a Python program that counts down from a number n (given by the user) to 1 using a while loop, printing each number in the countdown."
   ]
  },
  {
   "cell_type": "code",
   "execution_count": 12,
   "id": "469eee0c",
   "metadata": {},
   "outputs": [
    {
     "name": "stdout",
     "output_type": "stream",
     "text": [
      "5\n",
      "4\n",
      "3\n",
      "2\n",
      "1\n"
     ]
    }
   ],
   "source": [
    "num = int(input(\"enter a number: \"))\n",
    "\n",
    "while num >= 1:\n",
    "    print(num)\n",
    "    num -= 1"
   ]
  },
  {
   "cell_type": "markdown",
   "id": "6cce763f",
   "metadata": {},
   "source": [
    "Q5:Write a Python program that prints fibonacci series from 1 to n.Take input from user"
   ]
  },
  {
   "cell_type": "code",
   "execution_count": 15,
   "id": "d618392a",
   "metadata": {},
   "outputs": [
    {
     "name": "stdout",
     "output_type": "stream",
     "text": [
      "1\n",
      "1\n",
      "2\n",
      "3\n",
      "5\n",
      "8\n"
     ]
    }
   ],
   "source": [
    "num = int(input(\"Enter a number: \"))\n",
    "a = 0\n",
    "b = 1\n",
    "\n",
    "while b <= num:\n",
    "    print(b)\n",
    "    c = a + b\n",
    "    a = b\n",
    "    b = c"
   ]
  }
 ],
 "metadata": {
  "kernelspec": {
   "display_name": "base",
   "language": "python",
   "name": "python3"
  },
  "language_info": {
   "codemirror_mode": {
    "name": "ipython",
    "version": 3
   },
   "file_extension": ".py",
   "mimetype": "text/x-python",
   "name": "python",
   "nbconvert_exporter": "python",
   "pygments_lexer": "ipython3",
   "version": "3.12.7"
  }
 },
 "nbformat": 4,
 "nbformat_minor": 5
}
