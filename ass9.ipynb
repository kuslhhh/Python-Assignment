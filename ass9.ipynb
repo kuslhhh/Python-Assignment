{
 "cells": [
  {
   "cell_type": "markdown",
   "id": "c235176c",
   "metadata": {},
   "source": [
    "### Question 1: Create a class Book that contains the following attributes:\n",
    "\n",
    "<ol>\n",
    "<li>title</li>\n",
    "<li>author</li>\n",
    "<li>price</li>\n",
    "<li>year_of_publication</li>\n",
    "</ol>\n",
    "\n",
    "Define the following methods:\n",
    "\n",
    "\n",
    "<li>display_details: A method that prints all the details of the book.</li>\n",
    "<li>apply_discount: A method that applies a discount (in percentage) to the book’s price and updates the price accordingly.</li>\n"
   ]
  },
  {
   "cell_type": "code",
   "execution_count": 6,
   "id": "fe5cdc12",
   "metadata": {},
   "outputs": [
    {
     "name": "stdout",
     "output_type": "stream",
     "text": [
      "Book title: shamchi aai\n",
      "Book author: sane guruji\n",
      "Book price: 200\n",
      "Year of publication of book: 2003\n",
      "4 percent Discount applied on the book, new price:  192.0\n"
     ]
    }
   ],
   "source": [
    "class book: \n",
    "    def __init__(self, title, author, price, year_of_publication):\n",
    "        self.title = title\n",
    "        self.author = author\n",
    "        self.price = price\n",
    "        self.year_of_publication = year_of_publication\n",
    "\n",
    "    def display_details(self):\n",
    "        print(\"Book title:\", self.title)\n",
    "        print(\"Book author:\", self.author)\n",
    "        print(\"Book price:\", self.price)\n",
    "        print(\"Year of publication of book:\", self.year_of_publication)\n",
    "\n",
    "    def apply_discount(self, discount_percent):\n",
    "        discount_amt = self.price * ( discount_percent / 100 )\n",
    "        self.price -= discount_amt\n",
    "        print( discount_percent,\"percent Discount applied on the book, new price: \", self.price)\n",
    "\n",
    "# objects\n",
    "\n",
    "b1 = book(\"shamchi aai\", \"sane guruji\", 200, 2003)\n",
    "b1.display_details()\n",
    "\n",
    "dis = int(input(\"Enter discount percentage: \"))\n",
    "b1.apply_discount(dis)"
   ]
  },
  {
   "cell_type": "markdown",
   "id": "a7b057cd",
   "metadata": {},
   "source": [
    "### Question 2: Define a class Student with the following attributes:\n",
    "\n",
    "<ol>\n",
    "<li>name </li> \n",
    "<li>age</li>\n",
    "<li>grade</li>\n",
    "<li>subjects(list of subjects)</li>\n",
    "</ol>\n",
    "\n",
    "#### Create methods to:\n",
    "\n",
    "<li>add_subject: Adds a subject to the student’s list of subjects.</li>\n",
    "<li>display_student_info: Prints the student’s name, age, grade, and all subjects.</li>"
   ]
  },
  {
   "cell_type": "code",
   "execution_count": 11,
   "id": "173876de",
   "metadata": {},
   "outputs": [
    {
     "name": "stdout",
     "output_type": "stream",
     "text": [
      "maths added to list\n",
      "Student name:  kush\n",
      "Student age:  22\n",
      "Student grade:  A\n",
      "Subjects:  ['maths']\n"
     ]
    }
   ],
   "source": [
    "class student:\n",
    "    def __init__(self, name, age, grade):\n",
    "        self.name = name\n",
    "        self.age = age\n",
    "        self.grade = grade\n",
    "        self.subjects = []\n",
    "\n",
    "    def add_subject(self, subject):\n",
    "        self.subjects.append(subject)\n",
    "        print(subject, \"added to list\")\n",
    "\n",
    "    def stud_info(self):\n",
    "        print(\"Student name: \", self.name)\n",
    "        print(\"Student age: \", self.age)\n",
    "        print(\"Student grade: \", self.grade)\n",
    "        if self.subjects:\n",
    "            print(\"Subjects: \", self.subjects)\n",
    "        else:\n",
    "            print(\"No subjects added!\")\n",
    "\n",
    "# object\n",
    "\n",
    "name = input(\"Enter name: \")\n",
    "age = input(\"Enter age: \")\n",
    "grade = input(\"Enter grade: \")\n",
    "sub = input(\"Enter subject: \")\n",
    "\n",
    "s1 = student(name, age, grade)\n",
    "s1.add_subject(sub)\n",
    "s1.stud_info()"
   ]
  },
  {
   "cell_type": "code",
   "execution_count": null,
   "id": "8afc8f2a",
   "metadata": {},
   "outputs": [],
   "source": []
  }
 ],
 "metadata": {
  "kernelspec": {
   "display_name": "base",
   "language": "python",
   "name": "python3"
  },
  "language_info": {
   "codemirror_mode": {
    "name": "ipython",
    "version": 3
   },
   "file_extension": ".py",
   "mimetype": "text/x-python",
   "name": "python",
   "nbconvert_exporter": "python",
   "pygments_lexer": "ipython3",
   "version": "3.12.7"
  }
 },
 "nbformat": 4,
 "nbformat_minor": 5
}
